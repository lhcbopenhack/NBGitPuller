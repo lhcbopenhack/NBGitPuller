{
  "cells": [
    {
      "cell_type": "markdown",
      "metadata": {
        
      },
      "source": [
        "# Intro to Python and Machine Learning\n",
        "\n",
        "This notebook is an introduction to Python and Machine Learning"
      ]
    },
    {
      "cell_type": "code",
      "execution_count": null,
      "metadata": {
        
      },
      "outputs": [
        
      ],
      "source": [
        "# Imports - the libraries we'll use\n",
        "\n",
        "import numpy as np \n",
        "from matplotlib import pyplot as plt"
      ]
    },
    {
      "cell_type": "code",
      "execution_count": null,
      "metadata": {
        
      },
      "outputs": [
        
      ],
      "source": [
        "# Plot a basic graph\n",
        "\n",
        "x = np.arange(0, 10 * np.pi, 0.1) \n",
        "y = np.sin(x)\n",
        "plt.title(\"Matplotlib demo\") \n",
        "plt.xlabel(\"x axis\") \n",
        "plt.ylabel(\"y axis\") \n",
        "plt.plot(x,y) \n",
        "plt.show()"
      ]
    }
  ],
  "metadata": {
    "kernelspec": {
      "display_name": "Python 3",
      "language": "python",
      "name": "python3"
    },
    "language_info": {
      "codemirror_mode": {
        "name": "ipython",
        "version": 3
      },
      "file_extension": ".py",
      "mimetype": "text/x-python",
      "name": "python",
      "nbconvert_exporter": "python",
      "pygments_lexer": "ipython3",
      "version": "3.7.3"
    }
  },
  "nbformat": 4,
  "nbformat_minor": 2
}
